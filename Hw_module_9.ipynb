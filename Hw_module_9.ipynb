{
  "nbformat": 4,
  "nbformat_minor": 0,
  "metadata": {
    "colab": {
      "name": "Hw module 9 ",
      "provenance": [],
      "collapsed_sections": []
    },
    "kernelspec": {
      "name": "python3",
      "display_name": "Python 3"
    },
    "language_info": {
      "name": "python"
    }
  },
  "cells": [
    {
      "cell_type": "code",
      "execution_count": null,
      "metadata": {
        "colab": {
          "base_uri": "https://localhost:8080/"
        },
        "id": "mZ4tI2c66gl0",
        "outputId": "92053336-ad8c-489a-8397-2acfdb8442dd"
      },
      "outputs": [
        {
          "output_type": "stream",
          "name": "stdout",
          "text": [
            "10\n",
            "2\n",
            "22.142857142857142\n",
            "2.165063509461097\n",
            "3.4641016151377544\n"
          ]
        }
      ],
      "source": [
        "import math\n",
        "# Question 1\n",
        "# max function\n",
        "def max_fn(arr):\n",
        "    max_value = arr[0] # assume the first value of array is the max_value\n",
        "    for val in arr: # iterate through the array\n",
        "        if val > max_value: # if there is value greater than current max_value\n",
        "            max_value = val # then set current value as max_value\n",
        "    return(max_value)\n",
        "    \n",
        "    \n",
        "# min function\n",
        "def min_fn(arr):\n",
        "    min_value = arr[0] # assume the first value of array is the min_value\n",
        "    for val in arr: # iterate through the array\n",
        "        if val < min_value: # if there is value lesser than current min_value\n",
        "            min_value = val # then set current value as min_value\n",
        "    return(min_value)\n",
        "\n",
        "# average function\n",
        "def avg_fn(arr):\n",
        "    sum_of_values = 0 # initialize the sum of elements in array as 0\n",
        "    for val in arr: # iterate through the array\n",
        "        sum_of_values = sum_of_values + val # add each element to the sum\n",
        "    return(sum_of_values/len(arr)) # divide the total sum by number of elements\n",
        "    \n",
        "# standard deviation function\n",
        "def std_dev(arr):\n",
        "    sum_of_values = 0 # initialize the sum of elements in array as 0\n",
        "    sqr_diff = 0 # initialize square difference as 0\n",
        "    for val in arr: # iterate through the array\n",
        "        sum_of_values = sum_of_values + val # add each element to the sum\n",
        "    mean = (sum_of_values/len(arr)) # average of elements in the array\n",
        "    for val in arr: # iterate through the array\n",
        "        sqr_diff = sqr_diff + pow((val - mean),2) # add the square of (current value - mean) into sqr_diff\n",
        "    std_deviation = math.sqrt(sqr_diff/len(arr)) # divide the sqr_diff with number of elements in the array and take the square root\n",
        "    return std_deviation\n",
        "    \n",
        "# geometric average function\n",
        "def geo_avg(arr):\n",
        "    geo_average = 1 # initialize geometric mean as 1\n",
        "    for val in arr: # iterate through the array\n",
        "        geo_average = geo_average * val # multiply each element of array with geo_average\n",
        "    return(pow(geo_average,(1/len(arr)))) \n",
        "    \n",
        "print(max_fn([5,2,8,10,3]))\n",
        "print(min_fn([5,2,8,10,3]))\n",
        "print(avg_fn([10, 2, 38, 23, 38, 23, 21]))\n",
        "print(std_dev([5,2,8,6]))\n",
        "print(geo_avg([4,3]))"
      ]
    },
    {
      "cell_type": "code",
      "source": [
        "import math\n",
        "# Separate functions to find area of each geometric shape\n",
        "def triangle_area(base,height):\n",
        "    area = (int(base) * int(height))/2\n",
        "    return area\n",
        "\n",
        "def circle_area(radius):\n",
        "    area = math.pi * pow(int(radius),2)\n",
        "    return area\n",
        "\n",
        "def square_area(side):\n",
        "    area = pow(int(side),2)\n",
        "    return area\n",
        "\n",
        "def shape_analyze():\n",
        "    # Taking user input \n",
        "    user_input = input(\"Which shape would you like to analyze? : \")\n",
        "    if user_input.lower() == \"triangle\": #.lower() is used to convert the user input to lowercase\n",
        "        base = input(\"Enter the base value of the triangle : \")\n",
        "        height = input(\"Enter the height of the traingle : \")\n",
        "        return(\"The area of the triangle is \" + str(triangle_area(base,height))) # take the base and height value from user and return the area by calling triangle_area() method\n",
        "    # Similar process is done for circle as well as square\n",
        "    elif user_input.lower() == \"circle\":\n",
        "        radius = input(\"Enter the radius of the circle : \")\n",
        "        return(\"The area of the circle is \" + str(circle_area(radius)))\n",
        "    elif user_input.lower() == \"square\":\n",
        "        side = input(\"Enter the length of side of the square : \")\n",
        "        return(\"The area of the square is \" + str(square_area(side)))\n",
        "    else:\n",
        "        # If the user input is not triangle, circle or square\n",
        "        print(\"Invalid Input! \")\n",
        "        print(\"Available shapes are triangle, circle and square. \")\n",
        "        \n",
        "print(shape_analyze())"
      ],
      "metadata": {
        "colab": {
          "base_uri": "https://localhost:8080/"
        },
        "id": "E5TSD1-f7IUG",
        "outputId": "fb57b698-7f9f-4cc2-9b21-131eb4c49a2d"
      },
      "execution_count": null,
      "outputs": [
        {
          "output_type": "stream",
          "name": "stdout",
          "text": [
            "Which shape would you like to analyze? : triangle\n",
            "Enter the base value of the triangle : 3\n",
            "Enter the height of the traingle : 7\n",
            "The area of the triangle is 10.5\n"
          ]
        }
      ]
    },
    {
      "cell_type": "code",
      "source": [
        "# Question 3\n",
        "\n",
        "def double_list(arr):\n",
        "    # Take the user input for option 1 and option 2\n",
        "    user_input=input(\"Choose option 1 or option 2: \\n Option 1: Double the number of elements in the list \\n Option 2: Double the values of elements in the list \\n\")\n",
        "    if str(user_input) == \"1\":\n",
        "        # double the number of elements using list comprehension\n",
        "        new_list = [x for i in range(2) for x in arr]\n",
        "        return(new_list)\n",
        "    elif str(user_input) == \"2\":\n",
        "        # double the value of elements using list comprehension\n",
        "        new_list = [(x * 2) for x in arr]\n",
        "        return(new_list)\n",
        "print(double_list([1,2,3]))"
      ],
      "metadata": {
        "colab": {
          "base_uri": "https://localhost:8080/"
        },
        "id": "pf4ONwvh7cwN",
        "outputId": "659f1284-f626-4b50-a7c6-63868010b187"
      },
      "execution_count": null,
      "outputs": [
        {
          "output_type": "stream",
          "name": "stdout",
          "text": [
            "Choose option 1 or option 2: \n",
            " Option 1: Double the number of elements in the list \n",
            " Option 2: Double the values of elements in the list \n",
            "option 1\n",
            "None\n"
          ]
        }
      ]
    },
    {
      "cell_type": "code",
      "source": [
        "def concat_two_list(l1,l2):\n",
        "    \"\"\"\n",
        "    A function to concat two lists\n",
        "    :param l1: Input List 1\n",
        "    :param l2: Input List 2\n",
        "    :return l3: Output List 3\n",
        "    \"\"\"\n",
        "    # use list comprehension to concat two lists.\n",
        "    l3 = [int(str(x) + str(y)) for x, y in zip(l1, l2)]\n",
        "    return l3\n",
        "\n",
        "\n",
        "def list_of_primes(n):\n",
        "    \"\"\"\n",
        "    A Function to find all the prime numbers until n\n",
        "    :param n: Input range n\n",
        "    :return prime_numbers: A list of prime numbers until n\n",
        "    \"\"\"\n",
        "    # Empty list of prime numbers\n",
        "    prime_numbers = []\n",
        "    # Iterate i over the range (2 to <= n)\n",
        "    for i in range(2, n + 1):\n",
        "        # Check whether i is prime or not\n",
        "        for j in range(2, int(i ** 0.5) + 1):\n",
        "            # If i has an other factor except 1 and itself the i is not prime\n",
        "            if i % j == 0:\n",
        "                break\n",
        "        # If i is prime then append it into the list\n",
        "        else:\n",
        "            prime_numbers.append(i)\n",
        "    return prime_numbers\n",
        "\n",
        "\n",
        "def calculation(a, b):\n",
        "    \"\"\"\n",
        "    A function to calculate multiplication and division <quotient> of two numbers\n",
        "    :param a: Input variable 1\n",
        "    :param b: Input variable 2\n",
        "    :return m, q: Multiplication m and division quotient q\n",
        "    \"\"\"\n",
        "    # Multiplication of a and b\n",
        "    m = a*b\n",
        "    # Division of a by b where q is the quotient\n",
        "    q = a//b\n",
        "    return m, q\n",
        "\n",
        "\n",
        "def sum_of_multiples(num):\n",
        "    \"\"\"\n",
        "    A function to return the sum of all the multiples of 3 or 5 below num\n",
        "    :param num: Input range\n",
        "    :return s: sum of the multiples of 3 or 5\n",
        "    \"\"\"\n",
        "    # use list comprehension to find the multiples of 3 or 5 below num\n",
        "    # convert the list into set to discard all the duplicate multiples of 3 and 5 like 15, 30 etc.\n",
        "    multiples_3_5 = set([x for x in range(num) if x%3 == 0 or x%5 == 0])\n",
        "    # find the sum of the set multiples_3_5\n",
        "    s = sum(multiples_3_5)\n",
        "    return s\n",
        "\n",
        "\n",
        "def even_fibo_sum(numbr):\n",
        "    \"\"\"\n",
        "    A function to find the sum of even fibonacci numbers below numbr\n",
        "    :param numbr: Input range\n",
        "    :return s: The sum of even fibonacci numbers below numbr\n",
        "    \"\"\"\n",
        "    # starting points of fibonacci series\n",
        "    a, b = 0, 1\n",
        "    # initialize sum of even fibonacci numbers as 0\n",
        "    s = 0\n",
        "    # generate fibonacci series until numbr\n",
        "    while a <= numbr:\n",
        "        # check whether the fibonacci number is even or not\n",
        "        if a%2 == 0:\n",
        "            s += a\n",
        "        a, b = b, a+b\n",
        "    return s\n",
        "\n",
        "# Driver Code\n",
        "if __name__ == '__main__':\n",
        "\n",
        "    # Test Function 4\n",
        "    l1 = [1, 2, 3]\n",
        "    l2 = [7, 8, 9]\n",
        "    print(f'The concatenation of two lists {l1} and {l2} is {concat_two_list(l1,l2)}')\n",
        "\n",
        "    # Test Function 5\n",
        "    n = 100\n",
        "    print(f'The list of all prime numbers upto {n} is {list_of_primes(n)}')\n",
        "\n",
        "    # Test Function 6\n",
        "    a = 10\n",
        "    b = 2\n",
        "    print(f'The multiplication and division <quotient> of {a} and {b} is {calculation(a, b)}')\n",
        "\n",
        "    # Test Function 7\n",
        "    num = 1000\n",
        "    print(f'The sum of multiples of 3 or 5 below {num} is {sum_of_multiples(num)}')\n",
        "\n",
        "    # Test Function 8\n",
        "    numbr = 500\n",
        "    print(f'The sum of even fibonacci numbers below {numbr} is {even_fibo_sum(numbr)}')"
      ],
      "metadata": {
        "colab": {
          "base_uri": "https://localhost:8080/"
        },
        "id": "YCe-UcWWDxOm",
        "outputId": "20078311-76fc-4562-b289-77bce8d4bb7e"
      },
      "execution_count": 1,
      "outputs": [
        {
          "output_type": "stream",
          "name": "stdout",
          "text": [
            "The concatenation of two lists [1, 2, 3] and [7, 8, 9] is [17, 28, 39]\n",
            "The list of all prime numbers upto 100 is [2, 3, 5, 7, 11, 13, 17, 19, 23, 29, 31, 37, 41, 43, 47, 53, 59, 61, 67, 71, 73, 79, 83, 89, 97]\n",
            "The multiplication and division <quotient> of 10 and 2 is (20, 5)\n",
            "The sum of multiples of 3 or 5 below 1000 is 233168\n",
            "The sum of even fibonacci numbers below 500 is 188\n"
          ]
        }
      ]
    }
  ]
}