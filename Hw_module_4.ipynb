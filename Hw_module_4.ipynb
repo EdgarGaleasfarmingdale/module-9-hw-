{
  "nbformat": 4,
  "nbformat_minor": 0,
  "metadata": {
    "colab": {
      "name": "Hw module 4 ",
      "provenance": []
    },
    "kernelspec": {
      "name": "python3",
      "display_name": "Python 3"
    },
    "language_info": {
      "name": "python"
    }
  },
  "cells": [
    {
      "cell_type": "markdown",
      "source": [
        "1) Write a program that asks the user to enter the nunmber of packahes purchased. The program should then display the amount of the discount if any and the toal amount of the purchase afater the discount. \n",
        "2) Write a program that asks the user to enter weight of a package then displays the shipping charges. "
      ],
      "metadata": {
        "id": "cRZYnonCvlAG"
      }
    },
    {
      "cell_type": "code",
      "execution_count": 1,
      "metadata": {
        "colab": {
          "base_uri": "https://localhost:8080/"
        },
        "id": "m51gULFXt-S6",
        "outputId": "0c7d9175-9b4a-436d-f5f7-251962d51db7"
      },
      "outputs": [
        {
          "output_type": "stream",
          "name": "stdout",
          "text": [
            "Enter number of packages purchased: 25\n",
            "Discounted amount is 742.5\n",
            "Final amount of the purchase is 1732.5\n"
          ]
        }
      ],
      "source": [
        "# question one \n",
        "num = int(input('Enter number of packages purchased: '))\n",
        "\n",
        "discount = 0\n",
        "if 10 <= num <= 19:\n",
        "    discount = 0.2\n",
        "elif 20 <= num <= 49:\n",
        "    discount = 0.3\n",
        "elif 50 <= num <= 99:\n",
        "    discount = 0.4\n",
        "elif num >= 100:\n",
        "    discount = 0.5\n",
        "\n",
        "original_price = num * 99\n",
        "discount_amount = discount * original_price\n",
        "print('Discounted amount is ' + str(discount_amount))\n",
        "print('Final amount of the purchase is ' + str(original_price - discount_amount))\n"
      ]
    },
    {
      "cell_type": "code",
      "source": [
        "# question 2 \n",
        "weight_of_package = float(input(\"Enter weight of package: \"))\n",
        "shipping_charges = 0.0\n",
        "\n",
        "message = \"Shipping charges = \"\n",
        "\n",
        "if weight_of_package <= 2:\n",
        "    shipping_charges = weight_of_package * 1.50\n",
        "elif weight_of_package > 2 and weight_of_package <= 6:\n",
        "    shipping_charges = weight_of_package * 3.00\n",
        "elif weight_of_package > 6 and weight_of_package <= 10:\n",
        "    shipping_charges = weight_of_package * 4.00\n",
        "elif weight_of_package > 10:\n",
        "    shipping_charges = weight_of_package * 4.75\n",
        "\n",
        "message += \"$\" + format(shipping_charges, ',.2f')\n",
        "\n",
        "print(message)"
      ],
      "metadata": {
        "colab": {
          "base_uri": "https://localhost:8080/"
        },
        "id": "VlizNSObuvkT",
        "outputId": "1d4ae341-6bcc-4d80-fa34-fe4786974ea1"
      },
      "execution_count": 2,
      "outputs": [
        {
          "output_type": "stream",
          "name": "stdout",
          "text": [
            "Enter weight of package: 2\n",
            "Shipping charges = $3.00\n"
          ]
        }
      ]
    }
  ]
}